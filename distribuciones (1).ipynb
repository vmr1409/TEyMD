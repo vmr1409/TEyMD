{
 "cells": [
  {
   "cell_type": "markdown",
   "metadata": {},
   "source": [
    "# Tarea Distribuciones"
   ]
  },
  {
   "cell_type": "markdown",
   "metadata": {},
   "source": [
    "<h3>Equipo 6:</h3>\n",
    "\n",
    "\n",
    "<div>\n",
    "\n",
    "<ul>\n",
    "<li>Cariño Díaz David</li>\n",
    "<li>Márquez Sánchez Moisés</li>\n",
    "<li>Martínez Romualdo Valeria</li>\n",
    "<li>Mondragón Miranda Néstor Yair</li>\n",
    "<li>Reyes Cruz Alejandro</li>\n",
    "<li>Torres Bustamante Dulce Jhoana</li>\n",
    "</ul>\n",
    "\n",
    "</div>\n"
   ]
  },
  {
   "cell_type": "markdown",
   "metadata": {},
   "source": [
    "Para poder resolver el siguiente ejercicio, usaremos la siguiente tabla de la función de distribución normal estandar:\n",
    "\n",
    "![image.png](Captura_normal.PNG)"
   ]
  },
  {
   "cell_type": "markdown",
   "metadata": {},
   "source": [
    "# Tarea distribuciones\n",
    "\n",
    "### Ejercicio 1.1:\n",
    "$\\mathbb{P}(0<Z<b)$: Queremos calcular $\\mathbb{P}(0<Z<0.43)$, lo cuál puede realizarse de la siguiente manera:\n",
    "* Tablas de área a la derecha: $\\mathbb{P}(0<Z<0.43) = 0.1664$\n",
    "\n",
    "#### Solución:\n",
    "$\\mathbb{P}[0 <Z<0.43] = \\mathbb{P}[Z\\leq0.43] - \\mathbb{P}[Z\\leq0] $\n",
    "Estos valores los encontramos directamente en la tabla dada:\n",
    "$$\n",
    "\\mathbb{P}[Z\\leq0.43] = 0.6664\n",
    "\\\\y\\\\\n",
    "\\mathbb{P}[Z\\leq0] = 0.5 \\\\\n",
    "\\therefore \\mathbb{P}[0 <Z<0.43] = \\mathbb{P}[Z\\leq0.43] - \\mathbb{P}[Z\\leq0] = \n",
    "0.6664 - 0.5 = 0.1664\n",
    "$$\n"
   ]
  },
  {
   "cell_type": "code",
   "execution_count": 1,
   "metadata": {},
   "outputs": [
    {
     "name": "stdout",
     "output_type": "stream",
     "text": [
      "La probabilidad de que tome valores entre 0 y 0.43 es Z 0.16640217940454227\n"
     ]
    }
   ],
   "source": [
    "# Comprobacion numerica\n",
    "from scipy.stats import norm\n",
    "\n",
    "proba = norm.cdf(0.43)-norm.cdf(0)\n",
    "print(f'La probabilidad de que tome valores entre 0 y 0.43 es Z {proba}')"
   ]
  },
  {
   "cell_type": "markdown",
   "metadata": {},
   "source": [
    "### Ejercicio 1.2:\n",
    "$\\mathbb{P}(-b<Z<b)$: Queremos calcular $\\mathbb{P}(-0.16<Z<0.16)$, lo cuál puede realizarse de la siguiente manera:\n",
    "* Tablas de área a la derecha:  $$\\mathbb{P}(-0.16<Z<0.16) = \\mathbb{P}(-0.16<Z<0)+\\mathbb{P} (0<Z<0.16) = $$\n",
    "$$\\mathbb{P}(0<Z<0.16)+\\mathbb{P}(0<Z<0.16) = 2\\mathbb{P}(0<Z<0.16) = 2(0.0636) = 0.1272$$"
   ]
  },
  {
   "cell_type": "markdown",
   "metadata": {},
   "source": [
    "#### Solución:"
   ]
  },
  {
   "cell_type": "code",
   "execution_count": 5,
   "metadata": {},
   "outputs": [
    {
     "name": "stdout",
     "output_type": "stream",
     "text": [
      "La probabilidad de que Z tome valores entre -0.16 y 0.16 es 0.1271189257828657\n"
     ]
    }
   ],
   "source": [
    "proba = norm.cdf(0.16) - norm.cdf(-0.16)\n",
    "print(f'La probabilidad de que Z tome valores entre -0.16 y 0.16 es {proba}')"
   ]
  },
  {
   "cell_type": "markdown",
   "metadata": {},
   "source": [
    "### Ejercicio 1.3\n",
    "\n",
    "$\\mathbb{P}(Z<-b)$: Queremos calcular $\\mathbb{P}(Z<-1.94)$, lo cuál puede realizarse de la siguiente manera:\n",
    "* Tablas de área a la derecha: \n",
    "$$\\mathbb{P}(Z<-1.94) = \\mathbb{P}(Z<0)-\\mathbb{P}(-1.94<Z<0) = $$\n",
    "$$\\mathbb{P}(Z<0) - \\mathbb{P}(0<Z<1.94) = 0.5 - 0.4738 = 0.0262$$\n"
   ]
  },
  {
   "cell_type": "markdown",
   "metadata": {},
   "source": [
    "#### Solución\n",
    "La tabla dada solo contiene los valores de $F_{X}(x)$ para $x>=0$, pero aprobechamos la propiedad simetrica de la función de densidad de la distribucion normal estandar para realizar los siguientes cálculos\n",
    "$$\n",
    "\\mathbb{P}[Z\\leq-1.94] = \\mathbb{P}[Z\\leq0] - \\mathbb{P}[-1.94 \\leq Z\\leq0]\n",
    "$$\n",
    "$$\n",
    "= \\mathbb{P}[Z\\leq0] - \\left(\\mathbb{P}[Z\\leq1.94] - \\mathbb{P}[Z\\leq0]\\right)\n",
    "$$\n",
    "$$\n",
    " = \\mathbb{P}[Z\\leq0]+\\mathbb{P}[Z\\leq0] - \\mathbb{P}[Z\\leq1.94]\n",
    "$$\n",
    "$$\n",
    "= 1 - \\mathbb{P}[Z\\leq1.94] = 1- 0.9738 = 0.0262\n",
    "$$"
   ]
  },
  {
   "cell_type": "code",
   "execution_count": 7,
   "metadata": {},
   "outputs": [
    {
     "name": "stdout",
     "output_type": "stream",
     "text": [
      "La probabilidad de que Z sea menor o igual a -1.94 es: 0.026189844940452685\n"
     ]
    }
   ],
   "source": [
    "#Comprobacion numerica\n",
    "proba = norm.cdf(-1.94)\n",
    "print(f'La probabilidad de que Z sea menor o igual a -1.94 es: {proba}')"
   ]
  },
  {
   "cell_type": "markdown",
   "metadata": {},
   "source": [
    "### Ejercicio 1.4\n",
    "$\\mathbb{P}(Z>-b)$: Queremos calcular $(Z>-0.07)$, lo cuál puede realizarse de la siguiente manera:\n",
    "* Tablas de área a la derecha: \n",
    "$$\\mathbb{P}(Z>-0.07) = \\mathbb{P}(-0.07<Z<0) + \\mathbb{P}(Z>0) = $$\n",
    "$$\\mathbb{P}(0<Z<0.07) + \\mathbb{P}(Z>0) = 0.0279 + 0.5 = 0.5279$$"
   ]
  },
  {
   "cell_type": "code",
   "execution_count": 6,
   "metadata": {},
   "outputs": [
    {
     "name": "stdout",
     "output_type": "stream",
     "text": [
      "La probabilidad de que Z sea mayor que -0.07 es 0.5279031701805211\n",
      "La probabilidad de que Z sea mayor que -0.07 es 0.5279031701805211\n"
     ]
    }
   ],
   "source": [
    "# Comprobacion numerica\n",
    "proba = 1- norm.cdf(-0.07)\n",
    "print(f'La probabilidad de que Z sea mayor que -0.07 es {proba}')\n",
    "\n",
    "#Misma probabilidad calculada con la funcion de supervivencia\n",
    "proba = norm.sf(-0.07)\n",
    "print(f'La probabilidad de que Z sea mayor que -0.07 es {proba}')\n"
   ]
  },
  {
   "cell_type": "markdown",
   "metadata": {},
   "source": [
    "## Ejercicio 2\n",
    "\n",
    "Si $\\quad U\\sim unif(0,1) \\quad$ probar que \n",
    "$$\n",
    "F_{X}^{-1}(U) = \\frac{1}{\\lambda}(-ln(1-u))^{\\frac{1}{\\alpha}} \\sim Weibull(\\alpha,\\lambda)\n",
    "$$\n",
    "\n",
    "### Demostración\n",
    "\n",
    "Sea $U\\sim unif(0,1)$ y $X\\sim Weibull(\\alpha,\\lambda)$\n",
    "$$\n",
    "\\Rightarrow\n",
    "$$\n",
    "$$\n",
    "f_{U}(u) = \\begin{cases}\n",
    "1 & \\text{si } u \\in[0,1] \\\\\n",
    "0 & \\text{e.o.c}\n",
    "\\end{cases}\n",
    "\\\\y\\\\\n",
    "F_{U}(u) = \\begin{cases}\n",
    "0 & \\text{si } u<0 \\\\\n",
    "u & \\text{si } 0\\leq u\\leq 1 \\\\\n",
    "1 & \\text{si } u>1\n",
    "\\end{cases}\n",
    "$$\n",
    "\n",
    "Ahora nos fijamos en la función de distribución de la variable aleatoria $X$ y buscamos su inversa\n",
    "$$\n",
    "F_{X}(x) = 1 - e^{-(\\lambda x)^{\\alpha}}\n",
    "$$\n",
    "Para encontrar su función inversa, la igualamos a otra variable, y despejamos a la x\n",
    "$$\n",
    "F_{X}(x) = 1 - e^{-(\\lambda x)^{\\alpha}} =y\n",
    "\\\\ \\Rightarrow \\\\\n",
    "e^{-(\\lambda x)^{\\alpha}} = 1-y\n",
    "\\\\ \\Rightarrow \\\\\n",
    "-(\\lambda x)^{\\alpha} = ln(1-y)\n",
    "\\\\ \\Rightarrow \\\\ \n",
    "-\\lambda x = ln(1-y)^{\\frac{1}{\\alpha}}\n",
    "\\\\ \\Rightarrow \\\\\n",
    "x = \\left(\\frac{1}{\\lambda}\\right)(-ln(1-y))^{\\frac{1}{\\alpha}} = F_{X}^{-1}(y)\n",
    "$$\n",
    "$$\n",
    "\\therefore F_{X}^{-1}(x) = \\left(\\frac{1}{\\lambda}\\right)(-ln(1-x))^{\\frac{1}{\\alpha}} \n",
    "$$\n",
    "\n",
    "Ahora buscamos probar:\n",
    "$$\n",
    "F_{X}^{-1}(U) = \\frac{1}{\\lambda}(-ln(1-U))^{\\frac{1}{\\alpha}}\\sim Weibull(\\alpha,\\lambda)\n",
    "$$\n",
    "Por lo que calculamos la funsión de distribución de esta variable aleatoria\n",
    "$$\n",
    "\\mathbb{P}\\left[ \\frac{1}{\\lambda}(-ln(1-U))^{\\frac{1}{\\alpha}} \\leq x\\right]\n",
    "= \\mathbb{P}\\left[F_{X}^{-1}(U)\\leq x\\right]\n",
    "$$\n",
    "Como la funsión de distribución de Weibull es monotona creciente, podemos aplicarla en ambos lados de la igualdad y preservarla, al igual que la probabilidad, es decir:\n",
    "$$\n",
    "\\mathbb{P}\\left[F_{X}^{-1}(U)\\leq x\\right] = \n",
    "\\mathbb{P}\\left[F_{X}(F_{X}^{-1}(U)) \\leq F_{X}(x)\\right] = \n",
    "\\mathbb{P}\\left[U \\leq F_{X}(x)\\right]\n",
    "$$\n",
    "\n",
    "La cual es por definición la función de distribución de $U\\sim unif(0,1)$, es decir:\n",
    "$$\n",
    "\\mathbb{P}\\left[U \\leq F_{X}(x)\\right] = F_{U}(F_{X}(x))\n",
    "$$\n",
    "\n",
    "Pero como $F_{X}(x)$ es a su ves una función de distribución, solo devuelve valores entre 0 y 1, es decir\n",
    "$$F_{X}(x) \\in [0,1] \\forall x\\in R_{X} \\quad \\text{Y}\\quad F_{U}(u)=u\\quad \\forall u\\in[0,1]$$\n",
    "\n",
    "$$\n",
    "\\therefore F_{U}(F_{X}(x)) = F_{X}(x)\n",
    "$$\n",
    "\n",
    "Es decír $\\mathbb{P}\\left[\\frac{1}{\\lambda}(-ln(1-U))^{\\frac{1}{\\alpha}} \\leq x\\right] = F_{X}(x)$ donde $X\\sim Weibull(\\alpha,\\lambda)$\n",
    "\n",
    "$$\n",
    "\\therefore \\frac{1}{\\lambda}(-ln(1-U))^{\\frac{1}{\\alpha}} \\sim Weibull(\\alpha,\\lambda)\n",
    "$$\n"
   ]
  },
  {
   "cell_type": "markdown",
   "metadata": {},
   "source": [
    "## Ejercicio 3\n",
    "5 aplicaciones de la distribucion $Weibull$\n",
    "\n",
    "## 1. Aplicaciones en Medicina\n",
    "\n",
    "1.1 Estudios de supervivencia: Su aplicación en estudios de supervivencia se basa en analizar el tiempo de vida de los pacientes después de una diagnóstico o tratamiento, también modela el tiempo en que una enfermadad reaparece después del tratamiento inicial, otra aplicación es el tiempo de recuperación de un paciente\n",
    "    \n",
    "1.2 Evaluación de tratamientos: La distribución $Weibull$ permite comparar la efectividad de diferentes tratamientos hasta que se presenta un evento adverso o un evento positivo(recuperación)\n",
    "\n",
    "## 2. Aplicaciones en economia y finanzas \n",
    "\n",
    "2.1 Predicción de quiebras: Se utiliza para predecir el tiempo hasta que una empresa enfrenta la quiebra, también evalua el riesgo de no pago de préstamos y créditos, determinando las probabilidades de que una empresa no cumpla con sus obligaciones financieras\n",
    "\n",
    "2.2 Análisis de fluctuaciones de riesgo: Ayuda a modelar el comportamiento temporal de los precios de activos financieros como acciones y bonos\n",
    "\n",
    "## 3. Aplicaciones en Seguros y Analisis de riesgo \n",
    "\n",
    "3.1 Analisis de Riesgos de siniestros: La distribución $Weibull$ se aplica para modelar tanto la frecuencia como la severidad de siniestros, tambien permite identificar la probabilidad de ocurrencia de eventos catastróficos o de alto riesgo\n",
    "\n",
    "3.2 Calculo de primas de seguros: las aseguradoras pueden calcular las primas adecuadas para diferentes tipos de pólizas basándose en el riesgo de siniestros\n",
    "\n",
    "\n",
    "## 4. Aplicaciones en Metereología y climatología \n",
    "\n",
    "4.1 Modelado de Velocidades del Viento: Se utiliza para modelar la distribución estadística de las velocidades del viento en diferentes ubicaciones y alturas\n",
    "\n",
    "4.2 Análisis de fenómenos meteorológicos extremos: Funciona para modelar la probabilidad y magnitud de eventos meteorologicos extreos como huracanes, tornados y tormentas severas.\n",
    "\n",
    "4.3 Estudios Climáticos: La distribución $Weibull$ se aplica para analizar patrones de cambio climático y evaluar tendencias a largo plazo en variables climáticas como la temperatura y la precipitación.\n",
    "\n",
    "## 5. Aplicaciones en control de calidad y procesos industriales \n",
    "\n",
    "5.1 Modelado de vida útil de productos: Se puede modelar la vida útil de productos y componentes, también facilita la planificación de mantenimiento preventivo al identificar períodos óptimos para inspecciones y remplazos \n",
    "\n",
    "5.2 Control de calidad: Ayuda al análisis de datos de fallas para identificar patrones y causas subyacentes de fallos en productos y procesos industriales, permite identificar áreas de mejora en procesos de fabricación y calidad\n",
    "\n",
    "5.3 Optimización de procesos: Ayuda a mejorar la eficiencia operativa al optimizar tiempos de producción y planificación de recursos basándose en el rendimiento histórico y la fiabilidad de los equipos."
   ]
  },
  {
   "cell_type": "markdown",
   "metadata": {},
   "source": []
  }
 ],
 "metadata": {
  "kernelspec": {
   "display_name": ".venv",
   "language": "python",
   "name": "python3"
  },
  "language_info": {
   "codemirror_mode": {
    "name": "ipython",
    "version": 3
   },
   "file_extension": ".py",
   "mimetype": "text/x-python",
   "name": "python",
   "nbconvert_exporter": "python",
   "pygments_lexer": "ipython3",
   "version": "3.11.8"
  }
 },
 "nbformat": 4,
 "nbformat_minor": 2
}
