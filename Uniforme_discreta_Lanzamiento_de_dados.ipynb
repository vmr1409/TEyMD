{
  "nbformat": 4,
  "nbformat_minor": 0,
  "metadata": {
    "colab": {
      "provenance": []
    },
    "kernelspec": {
      "name": "python3",
      "display_name": "Python 3"
    },
    "language_info": {
      "name": "python"
    }
  },
  "cells": [
    {
      "cell_type": "markdown",
      "source": [
        "#Lanzamiento de dos dados"
      ],
      "metadata": {
        "id": "Zc9c6fpH7tOx"
      }
    },
    {
      "cell_type": "markdown",
      "source": [
        "## Diccionarios\n",
        "\n",
        "$$\\{\\text{key}:\\text{values}\\}.$$"
      ],
      "metadata": {
        "id": "oGwp3O6m76DD"
      }
    },
    {
      "cell_type": "code",
      "execution_count": 1,
      "metadata": {
        "id": "bAXTxjQXsLZp"
      },
      "outputs": [],
      "source": [
        "d = {\"César\": [\"Masha\", \"Mila\", \"Sneg\"],\n",
        "     \"Julio\": [3, 10, 12],\n",
        "     \"Gal\": [7.0, 5.0, 6.0]}"
      ]
    },
    {
      "cell_type": "code",
      "source": [
        "type(d)"
      ],
      "metadata": {
        "colab": {
          "base_uri": "https://localhost:8080/"
        },
        "id": "1U0xkzVA9jC1",
        "outputId": "dd586079-bf9c-4e13-90d8-a5c3cdccc47b"
      },
      "execution_count": 2,
      "outputs": [
        {
          "output_type": "execute_result",
          "data": {
            "text/plain": [
              "dict"
            ]
          },
          "metadata": {},
          "execution_count": 2
        }
      ]
    },
    {
      "cell_type": "code",
      "source": [
        "d.keys() # Son las llaves de un diccionario"
      ],
      "metadata": {
        "colab": {
          "base_uri": "https://localhost:8080/"
        },
        "id": "CswA0Ax-9vBS",
        "outputId": "a9eaa3fe-1d2a-4d79-bc64-8b601df62d5e"
      },
      "execution_count": 3,
      "outputs": [
        {
          "output_type": "execute_result",
          "data": {
            "text/plain": [
              "dict_keys(['César', 'Julio', 'Gal'])"
            ]
          },
          "metadata": {},
          "execution_count": 3
        }
      ]
    },
    {
      "cell_type": "code",
      "source": [
        "d.values()"
      ],
      "metadata": {
        "colab": {
          "base_uri": "https://localhost:8080/"
        },
        "id": "vqeYQNbG-vHC",
        "outputId": "0413d985-bece-4e2f-c7f4-ac289b832b97"
      },
      "execution_count": 4,
      "outputs": [
        {
          "output_type": "execute_result",
          "data": {
            "text/plain": [
              "dict_values([['Masha', 'Mila', 'Sneg'], [3, 10, 12], [7.0, 5.0, 6.0]])"
            ]
          },
          "metadata": {},
          "execution_count": 4
        }
      ]
    },
    {
      "cell_type": "code",
      "source": [
        "d.items()"
      ],
      "metadata": {
        "colab": {
          "base_uri": "https://localhost:8080/"
        },
        "id": "5UhJcXwg-zoI",
        "outputId": "db6d630f-5af9-4a70-c9ab-2a57b74f6171"
      },
      "execution_count": 5,
      "outputs": [
        {
          "output_type": "execute_result",
          "data": {
            "text/plain": [
              "dict_items([('César', ['Masha', 'Mila', 'Sneg']), ('Julio', [3, 10, 12]), ('Gal', [7.0, 5.0, 6.0])])"
            ]
          },
          "metadata": {},
          "execution_count": 5
        }
      ]
    },
    {
      "cell_type": "markdown",
      "source": [
        "## Se lanzan dos dados justos\n",
        "\n",
        "- $\\Omega = \\{1,2,3,4,5,6\\}\\times \\{1,2,3,4,5,6 \\}$.\n",
        "- $\\mathcal{F}=p(\\Omega)$.\n",
        "- Para $\\omega=(i,j)$ donde $i, j=1,\\dots, 6$\n",
        "$$\\mathbb{P}(\\{\\omega\\})=\\frac{1}{36}.$$\n",
        "\n",
        "-----\n",
        "\n",
        "## Vamos a definir a la siguiente variable aleatoria\n",
        "$S$ es la variable aleatoria que cuenta la suma de las caras de los dados.\n",
        "\n",
        "$$S:\\Omega \\to R_{S}=\\{2, 3, 4, 5, 6, 7, 8, 9, 10, 11, 12 \\}$$"
      ],
      "metadata": {
        "id": "0pEgDmSl_zEw"
      }
    },
    {
      "cell_type": "markdown",
      "source": [
        "Para entender a la ley de la variable aleatoria, basta con entender a los siguientes datos:\n",
        "$$\\{(k, \\mathbb{P}(S=k)) \\}_{k\\in R_{S}}.$$"
      ],
      "metadata": {
        "id": "pR4lIByoCm4X"
      }
    },
    {
      "cell_type": "markdown",
      "source": [
        "Veamos a $S$ como eventos. Sea $S_{n}$ el evento la suma de las caras es $n$."
      ],
      "metadata": {
        "id": "LV_YVSpYDo5x"
      }
    },
    {
      "cell_type": "code",
      "source": [
        "#itertools proporciona funciones que crean iteradores eficientes y rápidos\n",
        "#product toma 2 o más iterables y duvuelve su producto cartesiano\n",
        "from itertools import product\n",
        "\n",
        "#Fractions proporciona soporte para cálculos con números racionales\n",
        "#Fraction se usa para crear fracciones a partir de número enteros, flotantes, cadenas, etc.\n",
        "from fractions import Fraction"
      ],
      "metadata": {
        "id": "3D7SUivV_XGG"
      },
      "execution_count": 6,
      "outputs": []
    },
    {
      "cell_type": "code",
      "source": [
        "#Calcular la probabilidad P de un evento A dado un espacio muestral Omega.\n",
        "# A sería el evento, por ejemplo obtener una suma específica al lanzar 2 dados, como obtener un 7\n",
        "#Omega es el espacio muestral de todos los posibles resultados\n",
        "#len(A) es la cantidad de resultados en el evento A\n",
        "#len(Omega) es la cantidad total de resultados posibles en el espacio muestral\n",
        "\n",
        "def P(A, Omega):\n",
        "  P = Fraction(len(A), len(Omega) )\n",
        "  return P"
      ],
      "metadata": {
        "id": "NMZ4hgiKEIu0"
      },
      "execution_count": 3,
      "outputs": []
    },
    {
      "cell_type": "markdown",
      "source": [
        "$$S_{n}=\\{(i,j)\\in \\Omega : i+j =n \\}$$"
      ],
      "metadata": {
        "id": "c97Faj-dEfvz"
      }
    },
    {
      "cell_type": "code",
      "source": [
        "S_2 = {(i,j) for i in range(1,7) for j in range(1,7) if i+j == 2 }\n",
        "S_2"
      ],
      "metadata": {
        "colab": {
          "base_uri": "https://localhost:8080/"
        },
        "id": "xdKgALyfEdBJ",
        "outputId": "2e8d01c3-2144-4dba-e25b-bf817e23c6f9"
      },
      "execution_count": 8,
      "outputs": [
        {
          "output_type": "execute_result",
          "data": {
            "text/plain": [
              "{(1, 1)}"
            ]
          },
          "metadata": {},
          "execution_count": 8
        }
      ]
    },
    {
      "cell_type": "code",
      "source": [
        "#Se crean las posibles combinaciones de resultados al lanzar 2 dados\n",
        "L = [i for i in range(1,7)]\n",
        "\n",
        "Omega = set(product(L, repeat =2 ))\n",
        "Omega"
      ],
      "metadata": {
        "colab": {
          "base_uri": "https://localhost:8080/"
        },
        "id": "WiGgELw9FrJy",
        "outputId": "d9d2a9ec-01fe-43d2-cd8a-686577c54da2"
      },
      "execution_count": 9,
      "outputs": [
        {
          "output_type": "execute_result",
          "data": {
            "text/plain": [
              "{(1, 1),\n",
              " (1, 2),\n",
              " (1, 3),\n",
              " (1, 4),\n",
              " (1, 5),\n",
              " (1, 6),\n",
              " (2, 1),\n",
              " (2, 2),\n",
              " (2, 3),\n",
              " (2, 4),\n",
              " (2, 5),\n",
              " (2, 6),\n",
              " (3, 1),\n",
              " (3, 2),\n",
              " (3, 3),\n",
              " (3, 4),\n",
              " (3, 5),\n",
              " (3, 6),\n",
              " (4, 1),\n",
              " (4, 2),\n",
              " (4, 3),\n",
              " (4, 4),\n",
              " (4, 5),\n",
              " (4, 6),\n",
              " (5, 1),\n",
              " (5, 2),\n",
              " (5, 3),\n",
              " (5, 4),\n",
              " (5, 5),\n",
              " (5, 6),\n",
              " (6, 1),\n",
              " (6, 2),\n",
              " (6, 3),\n",
              " (6, 4),\n",
              " (6, 5),\n",
              " (6, 6)}"
            ]
          },
          "metadata": {},
          "execution_count": 9
        }
      ]
    },
    {
      "cell_type": "code",
      "source": [
        "#Se crea un diccionario con las posibles combinaciones al lanzar 2 dados y la suma correspondiente de esos resultados\n",
        "S = {(i,j): i+j for i,j in Omega}\n",
        "\n",
        "S"
      ],
      "metadata": {
        "colab": {
          "base_uri": "https://localhost:8080/"
        },
        "id": "i0vdEmDRFZG5",
        "outputId": "9336c2f9-c35b-49d4-fba5-58b65f55759a"
      },
      "execution_count": 10,
      "outputs": [
        {
          "output_type": "execute_result",
          "data": {
            "text/plain": [
              "{(3, 4): 7,\n",
              " (4, 3): 7,\n",
              " (3, 1): 4,\n",
              " (5, 4): 9,\n",
              " (4, 6): 10,\n",
              " (5, 1): 6,\n",
              " (2, 2): 4,\n",
              " (1, 6): 7,\n",
              " (2, 5): 7,\n",
              " (1, 3): 4,\n",
              " (6, 2): 8,\n",
              " (6, 5): 11,\n",
              " (4, 2): 6,\n",
              " (4, 5): 9,\n",
              " (3, 3): 6,\n",
              " (5, 6): 11,\n",
              " (3, 6): 9,\n",
              " (5, 3): 8,\n",
              " (2, 4): 6,\n",
              " (1, 2): 3,\n",
              " (2, 1): 3,\n",
              " (1, 5): 6,\n",
              " (6, 1): 7,\n",
              " (6, 4): 10,\n",
              " (3, 2): 5,\n",
              " (4, 1): 5,\n",
              " (3, 5): 8,\n",
              " (5, 2): 7,\n",
              " (4, 4): 8,\n",
              " (5, 5): 10,\n",
              " (1, 1): 2,\n",
              " (1, 4): 5,\n",
              " (2, 3): 5,\n",
              " (2, 6): 8,\n",
              " (6, 6): 12,\n",
              " (6, 3): 9}"
            ]
          },
          "metadata": {},
          "execution_count": 10
        }
      ]
    },
    {
      "cell_type": "code",
      "source": [
        "#Se crea un diccionario que utiliza conjuntos como valores y proporciona un conjunto vacío como valor predeterminado para cada clave que aún no esté en el diccionario\n",
        "from collections import defaultdict\n",
        "\n",
        "dS = defaultdict(set)\n",
        "dS"
      ],
      "metadata": {
        "colab": {
          "base_uri": "https://localhost:8080/"
        },
        "id": "tCdZjkJ4GbQK",
        "outputId": "af54a765-c639-49ed-dea8-9199b672966f"
      },
      "execution_count": 11,
      "outputs": [
        {
          "output_type": "execute_result",
          "data": {
            "text/plain": [
              "defaultdict(set, {})"
            ]
          },
          "metadata": {},
          "execution_count": 11
        }
      ]
    },
    {
      "cell_type": "code",
      "source": [
        "#Este bucle recorre todas las claves y valores en el diccionario \"S\"\n",
        "#y organiza las claves en conjuntos dentro del diccionario \"dS\", según el valor asociado en el diccionario \"S\"\n",
        "for l, v in S.items():\n",
        "    dS[v].add(l)"
      ],
      "metadata": {
        "id": "0wQQasi-HYLf"
      },
      "execution_count": 12,
      "outputs": []
    },
    {
      "cell_type": "code",
      "source": [
        "dS"
      ],
      "metadata": {
        "colab": {
          "base_uri": "https://localhost:8080/"
        },
        "id": "LzTW-QyBHt-d",
        "outputId": "a232a1ef-06e5-4905-93f3-9d26b664e8fd"
      },
      "execution_count": 13,
      "outputs": [
        {
          "output_type": "execute_result",
          "data": {
            "text/plain": [
              "defaultdict(set,\n",
              "            {7: {(1, 6), (2, 5), (3, 4), (4, 3), (5, 2), (6, 1)},\n",
              "             4: {(1, 3), (2, 2), (3, 1)},\n",
              "             9: {(3, 6), (4, 5), (5, 4), (6, 3)},\n",
              "             10: {(4, 6), (5, 5), (6, 4)},\n",
              "             6: {(1, 5), (2, 4), (3, 3), (4, 2), (5, 1)},\n",
              "             8: {(2, 6), (3, 5), (4, 4), (5, 3), (6, 2)},\n",
              "             11: {(5, 6), (6, 5)},\n",
              "             3: {(1, 2), (2, 1)},\n",
              "             5: {(1, 4), (2, 3), (3, 2), (4, 1)},\n",
              "             2: {(1, 1)},\n",
              "             12: {(6, 6)}})"
            ]
          },
          "metadata": {},
          "execution_count": 13
        }
      ]
    },
    {
      "cell_type": "code",
      "source": [
        "#Proporciona las probabilidades de cada valor obtenido en el espacio muestral omega, según el diccionario dS\n",
        "leyS = {k : P(A,Omega) for k , A in dS.items() }\n",
        "leyS"
      ],
      "metadata": {
        "colab": {
          "base_uri": "https://localhost:8080/"
        },
        "id": "brD5YygqI8wf",
        "outputId": "2b4f9015-5541-4eee-a40e-2a3043e6e8b8"
      },
      "execution_count": 14,
      "outputs": [
        {
          "output_type": "execute_result",
          "data": {
            "text/plain": [
              "{7: Fraction(1, 6),\n",
              " 4: Fraction(1, 12),\n",
              " 9: Fraction(1, 9),\n",
              " 10: Fraction(1, 12),\n",
              " 6: Fraction(5, 36),\n",
              " 8: Fraction(5, 36),\n",
              " 11: Fraction(1, 18),\n",
              " 3: Fraction(1, 18),\n",
              " 5: Fraction(1, 9),\n",
              " 2: Fraction(1, 36),\n",
              " 12: Fraction(1, 36)}"
            ]
          },
          "metadata": {},
          "execution_count": 14
        }
      ]
    },
    {
      "cell_type": "markdown",
      "source": [
        "## Introducción a pandas."
      ],
      "metadata": {
        "id": "zRJO-SbyJ2x0"
      }
    },
    {
      "cell_type": "code",
      "source": [
        "import pandas as pd"
      ],
      "metadata": {
        "id": "wOjQu9ZlJn09"
      },
      "execution_count": 15,
      "outputs": []
    },
    {
      "cell_type": "code",
      "source": [
        "#Se crea un objeto Series a partir del diccionario \"LeyS\"\n",
        "#Este código convierte el diccionario en una serie y luego ordena los índices de la serie\n",
        "leyS = pd.Series(leyS)\n",
        "leyS = leyS.sort_index()"
      ],
      "metadata": {
        "id": "VbH7OcRAKLxD"
      },
      "execution_count": 16,
      "outputs": []
    },
    {
      "cell_type": "code",
      "source": [
        "leyS"
      ],
      "metadata": {
        "colab": {
          "base_uri": "https://localhost:8080/"
        },
        "id": "LSep_uSVKps6",
        "outputId": "e6b79b13-46b6-4a1e-9df9-27b7dfe63644"
      },
      "execution_count": 17,
      "outputs": [
        {
          "output_type": "execute_result",
          "data": {
            "text/plain": [
              "2     1/36\n",
              "3     1/18\n",
              "4     1/12\n",
              "5      1/9\n",
              "6     5/36\n",
              "7      1/6\n",
              "8     5/36\n",
              "9      1/9\n",
              "10    1/12\n",
              "11    1/18\n",
              "12    1/36\n",
              "dtype: object"
            ]
          },
          "metadata": {},
          "execution_count": 17
        }
      ]
    },
    {
      "cell_type": "markdown",
      "source": [
        "## Ejercicios\n",
        "1.- Documenta tu colab.\n",
        "\n",
        "2.- Calcula la ley de las siguientes variables aleatorias:\n",
        "\n",
        "    - La diferencia de las caras sea mayor que $1$.\n",
        "\n",
        "    - La suma de las caras sea par.\n",
        "\n",
        "3.- Verifica, en cada caso, que $$\\sum_{k\\in R_{X}}\\mathbb{P}(X=x)=1.$$\n",
        "\n",
        "4.- Sube tu notebook a tu GitHub.\n",
        "\n",
        "\n"
      ],
      "metadata": {
        "id": "fqIGXqIiPZZM"
      }
    },
    {
      "cell_type": "markdown",
      "source": [
        "## Respuesta\n",
        "\n",
        "###1. La diferencia de las caras sea mayor que 1\n",
        "\n",
        "*   Vamos a definir el espacio muestral\n",
        "\n",
        " $\\Omega = \\{1,2,3,4,5,6\\}\\times \\{1,2,3,4,5,6 \\}$.\n",
        "\n",
        " $\\mathcal{F}=p(\\Omega)$.\n",
        "\n",
        " Para $\\omega=(i,j)$ donde $i, j=1,\\dots, 6$\n",
        "\n",
        " $$\\mathbb{P}(\\{\\omega\\})=\\frac{1}{36}.$$\n",
        "\n",
        "\n",
        "\n",
        "\n",
        "\n"
      ],
      "metadata": {
        "id": "XvrbVYh4sbpG"
      }
    },
    {
      "cell_type": "code",
      "source": [
        "from itertools import product\n",
        "from fractions import Fraction\n",
        "\n",
        "def P(A, Omega):\n",
        "  P = Fraction(len(A), len(Omega) )\n",
        "  return P\n",
        "\n",
        "# Definir el espacio muestral\n",
        "L = [i for i in range(1, 7)]\n",
        "Omega = set(product(L, repeat=2))\n",
        "Omega"
      ],
      "metadata": {
        "id": "O137dfCFQ4FX",
        "colab": {
          "base_uri": "https://localhost:8080/"
        },
        "outputId": "e8bfffe1-3d93-44ad-c82b-61cefc3f7399"
      },
      "execution_count": 5,
      "outputs": [
        {
          "output_type": "execute_result",
          "data": {
            "text/plain": [
              "{(1, 1),\n",
              " (1, 2),\n",
              " (1, 3),\n",
              " (1, 4),\n",
              " (1, 5),\n",
              " (1, 6),\n",
              " (2, 1),\n",
              " (2, 2),\n",
              " (2, 3),\n",
              " (2, 4),\n",
              " (2, 5),\n",
              " (2, 6),\n",
              " (3, 1),\n",
              " (3, 2),\n",
              " (3, 3),\n",
              " (3, 4),\n",
              " (3, 5),\n",
              " (3, 6),\n",
              " (4, 1),\n",
              " (4, 2),\n",
              " (4, 3),\n",
              " (4, 4),\n",
              " (4, 5),\n",
              " (4, 6),\n",
              " (5, 1),\n",
              " (5, 2),\n",
              " (5, 3),\n",
              " (5, 4),\n",
              " (5, 5),\n",
              " (5, 6),\n",
              " (6, 1),\n",
              " (6, 2),\n",
              " (6, 3),\n",
              " (6, 4),\n",
              " (6, 5),\n",
              " (6, 6)}"
            ]
          },
          "metadata": {},
          "execution_count": 5
        }
      ]
    },
    {
      "cell_type": "code",
      "source": [
        "#Se crea un diccionario con las posibles combinaciones al lanzar 2 dados y la diferencia correspondiente de esos resultados\n",
        "G = {(i,j): i-j for i,j in Omega}\n",
        "G"
      ],
      "metadata": {
        "colab": {
          "base_uri": "https://localhost:8080/"
        },
        "id": "pQzpdPCtskZD",
        "outputId": "f0afc18e-a8a1-467f-a6da-0a610bf03d4d"
      },
      "execution_count": 6,
      "outputs": [
        {
          "output_type": "execute_result",
          "data": {
            "text/plain": [
              "{(3, 4): -1,\n",
              " (4, 3): 1,\n",
              " (3, 1): 2,\n",
              " (5, 4): 1,\n",
              " (4, 6): -2,\n",
              " (5, 1): 4,\n",
              " (2, 2): 0,\n",
              " (1, 6): -5,\n",
              " (2, 5): -3,\n",
              " (1, 3): -2,\n",
              " (6, 2): 4,\n",
              " (6, 5): 1,\n",
              " (4, 2): 2,\n",
              " (4, 5): -1,\n",
              " (3, 3): 0,\n",
              " (5, 6): -1,\n",
              " (3, 6): -3,\n",
              " (5, 3): 2,\n",
              " (2, 4): -2,\n",
              " (1, 2): -1,\n",
              " (2, 1): 1,\n",
              " (1, 5): -4,\n",
              " (6, 1): 5,\n",
              " (6, 4): 2,\n",
              " (3, 2): 1,\n",
              " (4, 1): 3,\n",
              " (3, 5): -2,\n",
              " (5, 2): 3,\n",
              " (4, 4): 0,\n",
              " (5, 5): 0,\n",
              " (1, 1): 0,\n",
              " (1, 4): -3,\n",
              " (2, 3): -1,\n",
              " (2, 6): -4,\n",
              " (6, 6): 0,\n",
              " (6, 3): 3}"
            ]
          },
          "metadata": {},
          "execution_count": 6
        }
      ]
    },
    {
      "cell_type": "code",
      "source": [
        "#Se crea un diccionario que utiliza conjuntos como valores y proporciona un conjunto vacío como valor predeterminado para cada clave que aún no esté en el diccionario\n",
        "from collections import defaultdict\n",
        "\n",
        "dG = defaultdict(set)\n",
        "dG"
      ],
      "metadata": {
        "colab": {
          "base_uri": "https://localhost:8080/"
        },
        "id": "IQ68CMdyrNXV",
        "outputId": "f3f9fc06-7b67-4652-be8f-41e30a53b3c9"
      },
      "execution_count": 7,
      "outputs": [
        {
          "output_type": "execute_result",
          "data": {
            "text/plain": [
              "defaultdict(set, {})"
            ]
          },
          "metadata": {},
          "execution_count": 7
        }
      ]
    },
    {
      "cell_type": "code",
      "source": [
        "#Este bucle recorre todas las claves y valores en el diccionario \"G\"\n",
        "#y organiza las claves en conjuntos dentro del diccionario \"dG\", según el valor asociado en el diccionario \"G\"\n",
        "for l, v in G.items():\n",
        "    dG[v].add(l)\n",
        "\n",
        "dG"
      ],
      "metadata": {
        "colab": {
          "base_uri": "https://localhost:8080/"
        },
        "id": "_3Jso9e3rZ9A",
        "outputId": "47066381-f084-413f-a231-c7cb256748c9"
      },
      "execution_count": 11,
      "outputs": [
        {
          "output_type": "execute_result",
          "data": {
            "text/plain": [
              "defaultdict(set,\n",
              "            {-1: {(1, 2), (2, 3), (3, 4), (4, 5), (5, 6)},\n",
              "             1: {(2, 1), (3, 2), (4, 3), (5, 4), (6, 5)},\n",
              "             2: {(3, 1), (4, 2), (5, 3), (6, 4)},\n",
              "             -2: {(1, 3), (2, 4), (3, 5), (4, 6)},\n",
              "             4: {(5, 1), (6, 2)},\n",
              "             0: {(1, 1), (2, 2), (3, 3), (4, 4), (5, 5), (6, 6)},\n",
              "             -5: {(1, 6)},\n",
              "             -3: {(1, 4), (2, 5), (3, 6)},\n",
              "             -4: {(1, 5), (2, 6)},\n",
              "             5: {(6, 1)},\n",
              "             3: {(4, 1), (5, 2), (6, 3)}})"
            ]
          },
          "metadata": {},
          "execution_count": 11
        }
      ]
    },
    {
      "cell_type": "code",
      "source": [
        "#Proporciona las probabilidades de cada valor obtenido en el espacio muestral omega, según el diccionario dS\n",
        "leyG = {k : P(A,Omega) for k , A in dG.items() }\n",
        "leyG"
      ],
      "metadata": {
        "colab": {
          "base_uri": "https://localhost:8080/"
        },
        "id": "Bba9NzJtrqC8",
        "outputId": "ba7c71a0-e858-4001-c982-140f76bc03eb"
      },
      "execution_count": 12,
      "outputs": [
        {
          "output_type": "execute_result",
          "data": {
            "text/plain": [
              "{-1: Fraction(5, 36),\n",
              " 1: Fraction(5, 36),\n",
              " 2: Fraction(1, 9),\n",
              " -2: Fraction(1, 9),\n",
              " 4: Fraction(1, 18),\n",
              " 0: Fraction(1, 6),\n",
              " -5: Fraction(1, 36),\n",
              " -3: Fraction(1, 12),\n",
              " -4: Fraction(1, 18),\n",
              " 5: Fraction(1, 36),\n",
              " 3: Fraction(1, 12)}"
            ]
          },
          "metadata": {},
          "execution_count": 12
        }
      ]
    },
    {
      "cell_type": "code",
      "source": [
        "import pandas as pd\n",
        "\n",
        "leyG = pd.Series(leyG)\n",
        "leyG = leyG.sort_index()\n",
        "\n",
        "leyG"
      ],
      "metadata": {
        "colab": {
          "base_uri": "https://localhost:8080/"
        },
        "id": "16Yn3JDir5ak",
        "outputId": "be6c8368-8842-4d1d-923f-db23f989ec60"
      },
      "execution_count": 15,
      "outputs": [
        {
          "output_type": "execute_result",
          "data": {
            "text/plain": [
              "-5    1/36\n",
              "-4    1/18\n",
              "-3    1/12\n",
              "-2     1/9\n",
              "-1    5/36\n",
              " 0     1/6\n",
              " 1    5/36\n",
              " 2     1/9\n",
              " 3    1/12\n",
              " 4    1/18\n",
              " 5    1/36\n",
              "dtype: object"
            ]
          },
          "metadata": {},
          "execution_count": 15
        }
      ]
    },
    {
      "cell_type": "code",
      "source": [
        "#Calculamos la probabilidad de que la diferencia sea mayor que 1\n",
        "\n",
        "sum_mayor1 = sum(leyG[leyG.index > 1])\n",
        "\n",
        "print('La probabilidad de que la diferencia sea mayor que 1 es de:', sum_mayor1)"
      ],
      "metadata": {
        "colab": {
          "base_uri": "https://localhost:8080/"
        },
        "id": "_W9MBSxTsLmb",
        "outputId": "cf086864-6411-40ed-9c89-1be77575c714"
      },
      "execution_count": 21,
      "outputs": [
        {
          "output_type": "stream",
          "name": "stdout",
          "text": [
            "La probabilidad de que la diferencia sea mayor que 1 es de: 5/18\n"
          ]
        }
      ]
    },
    {
      "cell_type": "code",
      "source": [
        "#Verificamos que la suma de todas las probabilidades sea igual 1\n",
        "\n",
        "sum_probabilidades = sum(leyG)\n",
        "\n",
        "print('La suma de todas las probabilidades es igual a:', sum_probabilidades)"
      ],
      "metadata": {
        "colab": {
          "base_uri": "https://localhost:8080/"
        },
        "id": "mkecKYL8u6c1",
        "outputId": "9a5726d4-8035-4e36-c295-d08704e25829"
      },
      "execution_count": 22,
      "outputs": [
        {
          "output_type": "stream",
          "name": "stdout",
          "text": [
            "La suma de todas las probabilidades es igual a: 1\n"
          ]
        }
      ]
    },
    {
      "cell_type": "markdown",
      "source": [
        "##2. La suma de las caras sea par\n",
        "\n"
      ],
      "metadata": {
        "id": "u1VTSaoCvzjg"
      }
    },
    {
      "cell_type": "code",
      "source": [
        "#Se crea un diccionario con las posibles combinaciones al lanzar 2 dados y la suma correspondiente de esos resultados\n",
        "B = {(i,j): i+j for i,j in Omega}\n",
        "B"
      ],
      "metadata": {
        "colab": {
          "base_uri": "https://localhost:8080/"
        },
        "id": "j-gJMcrkwHlj",
        "outputId": "cdb0de99-8f5f-4f42-f0bc-36c6c9fd67c6"
      },
      "execution_count": 23,
      "outputs": [
        {
          "output_type": "execute_result",
          "data": {
            "text/plain": [
              "{(3, 4): 7,\n",
              " (4, 3): 7,\n",
              " (3, 1): 4,\n",
              " (5, 4): 9,\n",
              " (4, 6): 10,\n",
              " (5, 1): 6,\n",
              " (2, 2): 4,\n",
              " (1, 6): 7,\n",
              " (2, 5): 7,\n",
              " (1, 3): 4,\n",
              " (6, 2): 8,\n",
              " (6, 5): 11,\n",
              " (4, 2): 6,\n",
              " (4, 5): 9,\n",
              " (3, 3): 6,\n",
              " (5, 6): 11,\n",
              " (3, 6): 9,\n",
              " (5, 3): 8,\n",
              " (2, 4): 6,\n",
              " (1, 2): 3,\n",
              " (2, 1): 3,\n",
              " (1, 5): 6,\n",
              " (6, 1): 7,\n",
              " (6, 4): 10,\n",
              " (3, 2): 5,\n",
              " (4, 1): 5,\n",
              " (3, 5): 8,\n",
              " (5, 2): 7,\n",
              " (4, 4): 8,\n",
              " (5, 5): 10,\n",
              " (1, 1): 2,\n",
              " (1, 4): 5,\n",
              " (2, 3): 5,\n",
              " (2, 6): 8,\n",
              " (6, 6): 12,\n",
              " (6, 3): 9}"
            ]
          },
          "metadata": {},
          "execution_count": 23
        }
      ]
    },
    {
      "cell_type": "code",
      "source": [
        "#Se crea un diccionario que utiliza conjuntos como valores y proporciona un conjunto vacío como valor predeterminado para cada clave que aún no esté en el diccionario\n",
        "from collections import defaultdict\n",
        "\n",
        "dB = defaultdict(set)\n",
        "dB"
      ],
      "metadata": {
        "colab": {
          "base_uri": "https://localhost:8080/"
        },
        "id": "X-6TrTFNwcz4",
        "outputId": "dec5c39e-ffc0-4d97-a87f-89a7e3b59d6b"
      },
      "execution_count": 24,
      "outputs": [
        {
          "output_type": "execute_result",
          "data": {
            "text/plain": [
              "defaultdict(set, {})"
            ]
          },
          "metadata": {},
          "execution_count": 24
        }
      ]
    },
    {
      "cell_type": "code",
      "source": [
        "#Este bucle recorre todas las claves y valores en el diccionario \"G\"\n",
        "#y organiza las claves en conjuntos dentro del diccionario \"dG\", según el valor asociado en el diccionario \"G\"\n",
        "for l, v in B.items():\n",
        "    dB[v].add(l)\n",
        "\n",
        "dB"
      ],
      "metadata": {
        "colab": {
          "base_uri": "https://localhost:8080/"
        },
        "id": "9R2BODYDwjtI",
        "outputId": "27931c3c-2bde-4ec5-8011-9eb8ca931e4e"
      },
      "execution_count": 25,
      "outputs": [
        {
          "output_type": "execute_result",
          "data": {
            "text/plain": [
              "defaultdict(set,\n",
              "            {7: {(1, 6), (2, 5), (3, 4), (4, 3), (5, 2), (6, 1)},\n",
              "             4: {(1, 3), (2, 2), (3, 1)},\n",
              "             9: {(3, 6), (4, 5), (5, 4), (6, 3)},\n",
              "             10: {(4, 6), (5, 5), (6, 4)},\n",
              "             6: {(1, 5), (2, 4), (3, 3), (4, 2), (5, 1)},\n",
              "             8: {(2, 6), (3, 5), (4, 4), (5, 3), (6, 2)},\n",
              "             11: {(5, 6), (6, 5)},\n",
              "             3: {(1, 2), (2, 1)},\n",
              "             5: {(1, 4), (2, 3), (3, 2), (4, 1)},\n",
              "             2: {(1, 1)},\n",
              "             12: {(6, 6)}})"
            ]
          },
          "metadata": {},
          "execution_count": 25
        }
      ]
    },
    {
      "cell_type": "code",
      "source": [
        "#Proporciona las probabilidades de cada valor obtenido en el espacio muestral omega, según el diccionario dS\n",
        "leyB = {k : P(A,Omega) for k , A in dB.items() }\n",
        "leyB"
      ],
      "metadata": {
        "colab": {
          "base_uri": "https://localhost:8080/"
        },
        "id": "U2EnJEBIwtcP",
        "outputId": "2729d389-5579-419e-e20f-2f2c732ac28b"
      },
      "execution_count": 27,
      "outputs": [
        {
          "output_type": "execute_result",
          "data": {
            "text/plain": [
              "{7: Fraction(1, 6),\n",
              " 4: Fraction(1, 12),\n",
              " 9: Fraction(1, 9),\n",
              " 10: Fraction(1, 12),\n",
              " 6: Fraction(5, 36),\n",
              " 8: Fraction(5, 36),\n",
              " 11: Fraction(1, 18),\n",
              " 3: Fraction(1, 18),\n",
              " 5: Fraction(1, 9),\n",
              " 2: Fraction(1, 36),\n",
              " 12: Fraction(1, 36)}"
            ]
          },
          "metadata": {},
          "execution_count": 27
        }
      ]
    },
    {
      "cell_type": "code",
      "source": [
        "leyB = pd.Series(leyB)\n",
        "leyB = leyB.sort_index()\n",
        "\n",
        "leyB"
      ],
      "metadata": {
        "colab": {
          "base_uri": "https://localhost:8080/"
        },
        "id": "gpSqO53yw27h",
        "outputId": "abb3f131-fcb0-4263-d2bc-17e9a21725ab"
      },
      "execution_count": 28,
      "outputs": [
        {
          "output_type": "execute_result",
          "data": {
            "text/plain": [
              "2     1/36\n",
              "3     1/18\n",
              "4     1/12\n",
              "5      1/9\n",
              "6     5/36\n",
              "7      1/6\n",
              "8     5/36\n",
              "9      1/9\n",
              "10    1/12\n",
              "11    1/18\n",
              "12    1/36\n",
              "dtype: object"
            ]
          },
          "metadata": {},
          "execution_count": 28
        }
      ]
    },
    {
      "cell_type": "code",
      "source": [
        "#Calculamos la probabilidad de que la suma de las caras sea par\n",
        "\n",
        "sum_par = sum(leyB[leyB.index % 2 == 0])\n",
        "\n",
        "print('La probabilidad de que la diferencia sea mayor que 1 es de:', sum_par)"
      ],
      "metadata": {
        "colab": {
          "base_uri": "https://localhost:8080/"
        },
        "id": "JNG0t5eQxobV",
        "outputId": "894234bc-ff20-4916-b7ce-eb2619c46e3a"
      },
      "execution_count": 30,
      "outputs": [
        {
          "output_type": "stream",
          "name": "stdout",
          "text": [
            "La probabilidad de que la diferencia sea mayor que 1 es de: 1/2\n"
          ]
        }
      ]
    },
    {
      "cell_type": "code",
      "source": [
        "#Verificamos que la suma de todas las probabilidades sea igual 1\n",
        "\n",
        "sum_probabilidades2 = sum(leyB)\n",
        "\n",
        "print('La suma de todas las probabilidades es igual a:', sum_probabilidades2)"
      ],
      "metadata": {
        "colab": {
          "base_uri": "https://localhost:8080/"
        },
        "id": "ez4i7cewyIMR",
        "outputId": "a01649da-f6ff-43fa-8577-7a77fba4c2c5"
      },
      "execution_count": 31,
      "outputs": [
        {
          "output_type": "stream",
          "name": "stdout",
          "text": [
            "La suma de todas las probabilidades es igual a: 1\n"
          ]
        }
      ]
    }
  ]
}