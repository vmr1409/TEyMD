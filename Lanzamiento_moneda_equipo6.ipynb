{
  "nbformat": 4,
  "nbformat_minor": 0,
  "metadata": {
    "colab": {
      "provenance": []
    },
    "kernelspec": {
      "name": "python3",
      "display_name": "Python 3"
    },
    "language_info": {
      "name": "python"
    }
  },
  "cells": [
    {
      "cell_type": "markdown",
      "source": [
        "\n",
        "<h1>Lanzamiento de moneda</h1>\n",
        "\n",
        "<h3>Equipo 6:</h3>\n",
        "\n",
        "\n",
        "<div>\n",
        "\n",
        "<ul>\n",
        "<li>Cariño Díaz David</li>\n",
        "<li>Márquez Sánchez Moisés</li>\n",
        "<li>Martínez Romualdo Valeria</li>\n",
        "<li>Mondragón Miranda Néstor Yair</li>\n",
        "<li>Reyes Cruz Alejandro</li>\n",
        "<li>Torres Bustamante Dulce Jhoana</li>\n",
        "</ul>\n",
        "\n",
        "</div>\n",
        "\n"
      ],
      "metadata": {
        "id": "XTpcaedIME6l"
      }
    },
    {
      "cell_type": "code",
      "execution_count": null,
      "metadata": {
        "id": "dzDbyJwjOqzv",
        "colab": {
          "base_uri": "https://localhost:8080/"
        },
        "outputId": "2c529d82-f4d3-4847-97eb-9fc3876db0f4"
      },
      "outputs": [
        {
          "output_type": "stream",
          "name": "stdout",
          "text": [
            "{('A', 'S', 'S'), ('S', 'A', 'A'), ('S', 'S', 'A'), ('S', 'A', 'S'), ('S', 'S', 'S'), ('A', 'A', 'A'), ('A', 'S', 'A'), ('A', 'A', 'S')}\n"
          ]
        }
      ],
      "source": [
        "import itertools\n",
        "from itertools import product\n",
        "\n",
        "# Espacio muestral de experimento de lanzar 3 monedas\n",
        "Omega = set(product({\"A\", \"S\"}, repeat= 3))\n",
        "print(Omega)\n"
      ]
    },
    {
      "cell_type": "markdown",
      "source": [
        "### Casos de estudio\n",
        "3. Cuando se tiene al menos un sol\n",
        "4. Cuando la primer cara sale aguila y la útlima sol\n"
      ],
      "metadata": {
        "id": "MzvXBVSxBRJ5"
      }
    },
    {
      "cell_type": "code",
      "source": [
        "# Preamos función para calcular probabilidad con fracciones\n",
        "from fractions import Fraction\n",
        "\n",
        "def P(E, Omega):\n",
        "  p = Fraction(len(E),len(Omega))\n",
        "  return p"
      ],
      "metadata": {
        "id": "OSZ74JB9HiSl"
      },
      "execution_count": null,
      "outputs": []
    },
    {
      "cell_type": "code",
      "source": [
        "# Caso S cuando hay el menos un sol\n",
        "E = {om for om in Omega if om.count(\"S\")>=1}\n",
        "\n",
        "#Calculamos la pribabilidad de este evento\n",
        "P(E,Omega)\n"
      ],
      "metadata": {
        "colab": {
          "base_uri": "https://localhost:8080/"
        },
        "id": "0DX880yzHrdO",
        "outputId": "6fea7f89-9a5f-41ab-a389-45ddcf2077f7"
      },
      "execution_count": null,
      "outputs": [
        {
          "output_type": "execute_result",
          "data": {
            "text/plain": [
              "Fraction(7, 8)"
            ]
          },
          "metadata": {},
          "execution_count": 4
        }
      ]
    },
    {
      "cell_type": "code",
      "source": [
        "# F: La primer cara sea aguila y la ultima sol\n",
        "F = {om for om in Omega if om[0]==\"A\" and om[2]==\"S\"}\n",
        "print(F)\n",
        "\n",
        "#Calculamos la probabilidad de este evento\n",
        "P(F,Omega)"
      ],
      "metadata": {
        "colab": {
          "base_uri": "https://localhost:8080/"
        },
        "id": "4lysJMosHzfw",
        "outputId": "2364c009-9d06-4d21-e849-c8cef978d098"
      },
      "execution_count": null,
      "outputs": [
        {
          "output_type": "stream",
          "name": "stdout",
          "text": [
            "{('A', 'S', 'S'), ('A', 'A', 'S')}\n"
          ]
        },
        {
          "output_type": "execute_result",
          "data": {
            "text/plain": [
              "Fraction(1, 4)"
            ]
          },
          "metadata": {},
          "execution_count": 5
        }
      ]
    }
  ]
}